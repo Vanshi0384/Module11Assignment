{
 "cells": [
  {
   "cell_type": "markdown",
   "id": "94223010-1564-4154-9607-8b1308ad7d70",
   "metadata": {},
   "source": [
    "# Module 11 Assignment"
   ]
  },
  {
   "cell_type": "markdown",
   "id": "cecc2cab-f41c-4087-8bfe-d53f23726886",
   "metadata": {},
   "source": [
    "Question 1:"
   ]
  },
  {
   "cell_type": "code",
   "execution_count": 2,
   "id": "802aa6f3-5c54-4c2a-a1df-b2f6ffa8398c",
   "metadata": {},
   "outputs": [
    {
     "name": "stdout",
     "output_type": "stream",
     "text": [
      "Sorted list of players by runs: [('Virat Kohli', 24936), ('Jack Kallis', 25534), ('Ricky Ponting', 27483), ('Sachin Tendulkar', 34357)]\n"
     ]
    }
   ],
   "source": [
    "# Sample list of tuples (cricket players, runs)\n",
    "players = [('Sachin Tendulkar', 34357), ('Ricky Ponting', 27483), ('Jack Kallis', 25534), ('Virat Kohli', 24936)]\n",
    "\n",
    "# Sort the list using lambda function as the key (sorts by second element - runs)\n",
    "players.sort(key=lambda x: x[1])\n",
    "\n",
    "# Print the sorted list\n",
    "print(\"Sorted list of players by runs:\", players)\n",
    "\n"
   ]
  },
  {
   "cell_type": "markdown",
   "id": "b792d421-3afa-4849-9fa1-e9aa6e131f80",
   "metadata": {},
   "source": [
    "Question 2:"
   ]
  },
  {
   "cell_type": "code",
   "execution_count": 3,
   "id": "c9768945-7066-41b7-a4cb-68265c6fd64c",
   "metadata": {},
   "outputs": [
    {
     "name": "stdout",
     "output_type": "stream",
     "text": [
      "Squares of the numbers: [1, 4, 9, 16, 25, 36, 49, 64, 81, 100]\n"
     ]
    }
   ],
   "source": [
    "# Sample list of numbers\n",
    "numbers = [1, 2, 3, 4, 5, 6, 7, 8, 9, 10]\n",
    "\n",
    "# Use map with a lambda function to square each number\n",
    "squares = list(map(lambda x: x**2, numbers))\n",
    "\n",
    "# Print the list of squares\n",
    "print(\"Squares of the numbers:\", squares)\n"
   ]
  },
  {
   "cell_type": "markdown",
   "id": "0e5cc4eb-0d2f-4916-b3e2-eaaf43ec5bc9",
   "metadata": {},
   "source": [
    "Question 3:"
   ]
  },
  {
   "cell_type": "code",
   "execution_count": 4,
   "id": "896e93c5-a4e4-4f1d-a22e-2d5b711669f7",
   "metadata": {},
   "outputs": [
    {
     "name": "stdout",
     "output_type": "stream",
     "text": [
      "Tuple of strings: ('1', '2', '3', '4', '5', '6', '7', '8', '9', '10')\n"
     ]
    }
   ],
   "source": [
    "# Sample list of numbers\n",
    "numbers = [1, 2, 3, 4, 5, 6, 7, 8, 9, 10]\n",
    "\n",
    "# Use map with a lambda function to convert each number to a string\n",
    "string_numbers = tuple(map(lambda x: str(x), numbers))\n",
    "\n",
    "# Print the tuple of strings\n",
    "print(\"Tuple of strings:\", string_numbers)\n"
   ]
  },
  {
   "cell_type": "markdown",
   "id": "6b51e444-8724-4197-bed7-4ebb96f8ed68",
   "metadata": {},
   "source": [
    "Question 4:"
   ]
  },
  {
   "cell_type": "code",
   "execution_count": 5,
   "id": "68bc695e-b76b-446d-a325-1e591a470def",
   "metadata": {},
   "outputs": [
    {
     "name": "stdout",
     "output_type": "stream",
     "text": [
      "Product of numbers from 1 to 25: 15511210043330985984000000\n"
     ]
    }
   ],
   "source": [
    "from functools import reduce\n",
    "\n",
    "# List of numbers from 1 to 25\n",
    "numbers = list(range(1, 26))\n",
    "\n",
    "# Product calculation using reduce\n",
    "product = reduce(lambda x, y: x * y, numbers)\n",
    "\n",
    "# Print the product\n",
    "print(\"Product of numbers from 1 to 25:\", product)\n"
   ]
  },
  {
   "cell_type": "markdown",
   "id": "caf0fa52-ea1c-4584-939d-325dd4b6c3cf",
   "metadata": {},
   "source": [
    "Question 5:"
   ]
  },
  {
   "cell_type": "code",
   "execution_count": 6,
   "id": "16cd5208-1613-42e1-9167-f89bd94de528",
   "metadata": {},
   "outputs": [
    {
     "name": "stdout",
     "output_type": "stream",
     "text": [
      "Numbers divisible by 2 and 3: [6, 60, 90, 120]\n"
     ]
    }
   ],
   "source": [
    "# Sample list of numbers\n",
    "numbers = [2, 3, 6, 9, 27, 60, 90, 120, 55, 46]\n",
    "\n",
    "# Filter function with a lambda function to check divisibility by 2 and 3\n",
    "divisible_numbers = list(filter(lambda x: x % 2 == 0 and x % 3 == 0, numbers))\n",
    "\n",
    "# Print the filtered list\n",
    "print(\"Numbers divisible by 2 and 3:\", divisible_numbers)\n"
   ]
  },
  {
   "cell_type": "markdown",
   "id": "8c0dc846-2a89-4de2-9641-f6ad3f69238e",
   "metadata": {},
   "source": [
    "Question 6:"
   ]
  },
  {
   "cell_type": "code",
   "execution_count": null,
   "id": "c50f35b6-c47a-408d-9620-805a99ca06e1",
   "metadata": {},
   "outputs": [],
   "source": [
    "# Sample list of strings\n",
    "text_list = ['python', 'php', 'aba', 'radar', 'level', 'madam', 'hello']\n",
    "\n",
    "# Filter function with a lambda function to check if a string is a palindrome\n",
    "palindromes = list(filter(lambda x: x == x[::-1], text_list))\n",
    "\n",
    "# Print the list of palindromes\n",
    "print(\"Palindromes in the list:\", palindromes)\n"
   ]
  }
 ],
 "metadata": {
  "kernelspec": {
   "display_name": "Python 3 (ipykernel)",
   "language": "python",
   "name": "python3"
  },
  "language_info": {
   "codemirror_mode": {
    "name": "ipython",
    "version": 3
   },
   "file_extension": ".py",
   "mimetype": "text/x-python",
   "name": "python",
   "nbconvert_exporter": "python",
   "pygments_lexer": "ipython3",
   "version": "3.10.8"
  }
 },
 "nbformat": 4,
 "nbformat_minor": 5
}
